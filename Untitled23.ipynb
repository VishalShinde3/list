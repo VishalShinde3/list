{
  "nbformat": 4,
  "nbformat_minor": 0,
  "metadata": {
    "colab": {
      "provenance": [],
      "authorship_tag": "ABX9TyPTjGPkPVdaoaJfRoc3NlXq",
      "include_colab_link": true
    },
    "kernelspec": {
      "name": "python3",
      "display_name": "Python 3"
    },
    "language_info": {
      "name": "python"
    }
  },
  "cells": [
    {
      "cell_type": "markdown",
      "metadata": {
        "id": "view-in-github",
        "colab_type": "text"
      },
      "source": [
        "<a href=\"https://colab.research.google.com/github/VishalShinde3/list/blob/main/Untitled23.ipynb\" target=\"_parent\"><img src=\"https://colab.research.google.com/assets/colab-badge.svg\" alt=\"Open In Colab\"/></a>"
      ]
    },
    {
      "cell_type": "code",
      "source": [],
      "metadata": {
        "id": "NhlBliEpyA_A"
      },
      "execution_count": null,
      "outputs": []
    },
    {
      "cell_type": "code",
      "execution_count": 1,
      "metadata": {
        "colab": {
          "base_uri": "https://localhost:8080/"
        },
        "id": "jqHCeAeiw-x6",
        "outputId": "75a7f941-cf79-45b9-aeb0-154f3d25a348"
      },
      "outputs": [
        {
          "output_type": "stream",
          "name": "stdout",
          "text": [
            "[2, 4, 7, 8, 9, 9]\n"
          ]
        }
      ],
      "source": [
        "# program on list using append function\n",
        "a=[2,4,7,8,9]\n",
        "a.append(9)\n",
        "print(a)\n"
      ]
    },
    {
      "cell_type": "code",
      "source": [
        "# take input from user any five student name\n",
        "a=[]\n",
        "for i in range(5):\n",
        "  name=input(\"enter the student name :  \")\n",
        "  a.append(name)\n",
        "print(a)  "
      ],
      "metadata": {
        "colab": {
          "base_uri": "https://localhost:8080/"
        },
        "id": "uHDss6GKyCBM",
        "outputId": "70c74e07-2454-437d-f00d-b4fa19b9ffea"
      },
      "execution_count": 6,
      "outputs": [
        {
          "output_type": "stream",
          "name": "stdout",
          "text": [
            "enter the student name :  vishal\n",
            "enter the student name :  gaurav \n",
            "enter the student name :  chetan\n",
            "enter the student name :  paresh\n",
            "enter the student name :  rupesh\n",
            "['vishal', 'gaurav ', 'chetan', 'paresh', 'rupesh']\n"
          ]
        }
      ]
    },
    {
      "cell_type": "code",
      "source": [
        "# take input user any five numbers\n",
        "b=[]\n",
        "for i in range(5):\n",
        "  num=int(input(\"enter the num : \"))\n",
        "  b.append(num)\n",
        "print(b)  "
      ],
      "metadata": {
        "colab": {
          "base_uri": "https://localhost:8080/"
        },
        "id": "SzaRzd12zUa1",
        "outputId": "fa69dedb-d999-4aaf-d38b-001fbf170d8f"
      },
      "execution_count": 7,
      "outputs": [
        {
          "output_type": "stream",
          "name": "stdout",
          "text": [
            "enter the num : 45\n",
            "enter the num : 54\n",
            "enter the num : 45\n",
            "enter the num : 67\n",
            "enter the num : 87\n",
            "[45, 54, 45, 67, 87]\n"
          ]
        }
      ]
    },
    {
      "cell_type": "code",
      "source": [],
      "metadata": {
        "id": "59NKWQbwz-mc"
      },
      "execution_count": null,
      "outputs": []
    }
  ]
}